{
 "cells": [
  {
   "cell_type": "code",
   "execution_count": 84,
   "metadata": {},
   "outputs": [],
   "source": [
    "import sys,codecs\n",
    "def LoadFile(filename):\n",
    "    #load database from a file\n",
    "    #filename = \"./database.txt\"\n",
    "    res = []\n",
    "    #split rule with dot\n",
    "    with codecs.open(filename,'r','gb2312') as f:\n",
    "        for line in f.readlines():\n",
    "            res.append(line.split(','))\n",
    "    return res\n",
    "    "
   ]
  },
  {
   "cell_type": "code",
   "execution_count": 85,
   "metadata": {},
   "outputs": [],
   "source": [
    "def SetupDatabase(RawData=[]):\n",
    "    #生成规则数据库，每条规则用一个list和一个字符串表示表示，前者代表条件and，后者字符串代表推理结果\n",
    "    RuleDatabase = []\n",
    "    for rule in RawData:\n",
    "        tmp = []\n",
    "        condition = rule[:-1]\n",
    "        result = rule[len(rule)-1]\n",
    "        result = \"\".join(result.split())\n",
    "        tmp.append(condition)\n",
    "        tmp.append(result)\n",
    "        RuleDatabase.append(tmp)\n",
    "    return RuleDatabase"
   ]
  },
  {
   "cell_type": "code",
   "execution_count": 120,
   "metadata": {},
   "outputs": [],
   "source": [
    "def Deduction(RuleDatabase=[],condition = []):\n",
    "    #每轮推理使用所有规则，遍历规则，将符合条件的结论加入到condition中，知道condition不再变化，推理结束\n",
    "    #每条rule由一个list表示条件和str表示结论\n",
    "    #condition_init 是condition的初始值\n",
    "    condition_init = condition\n",
    "    \n",
    "    #used 是在推理过程中使用的条件集合\n",
    "    used = []\n",
    "    \n",
    "    #conditionNum 是条件个数\n",
    "    conditionNum = len(condition)-1\n",
    "    \n",
    "    while True:\n",
    "        condition_pre = condition\n",
    "        #遍历条件\n",
    "        for rule in RuleDatabase:\n",
    "            #结论不在条件中并且可以推理的，加入到条件集合中\n",
    "            if not rule[1] in condition and rule[0] in condition:\n",
    "                condition.append(rule[1])\n",
    "                #使用过的条件加入到used集合中\n",
    "                for conditionUsed in rule[0]:\n",
    "                    used.append(conditionUsed)\n",
    "        #没有变化的时候停止\n",
    "        if condition_pre == condition:\n",
    "            break\n",
    "    \n",
    "    #去除condition集合和used集合，condition_init集合中的交集元素\n",
    "    #condition = set(condition)-set(used)-set(condition_init)\n",
    "    \n",
    "    return condition_init"
   ]
  },
  {
   "cell_type": "code",
   "execution_count": 121,
   "metadata": {},
   "outputs": [],
   "source": [
    "def main():\n",
    "    #读入规则数据库文件和条件文件\n",
    "    RawDatabase = LoadFile('database.txt')\n",
    "    condition = LoadFile('condition.txt')\n",
    "\n",
    "    #生成规则数据库\n",
    "    RuleDatabase = SetupDatabase(RawDatabase)\n",
    "    \n",
    "    #使用规则进行推理\n",
    "    DeductionResult = Deduction(RuleDatabase,condition)\n",
    "    \n",
    "    print DeductionResult"
   ]
  },
  {
   "cell_type": "code",
   "execution_count": 122,
   "metadata": {},
   "outputs": [
    {
     "name": "stdout",
     "output_type": "stream",
     "text": [
      "[[u'\\u6bdb\\u53d1', u'\\u5976', u'\\u53cd\\u520d', u'\\u9ed1\\u8272\\u6761\\u7eb9']]\n"
     ]
    }
   ],
   "source": [
    "if __name__=='__main__':\n",
    "    main()"
   ]
  },
  {
   "cell_type": "code",
   "execution_count": 104,
   "metadata": {},
   "outputs": [
    {
     "name": "stdout",
     "output_type": "stream",
     "text": [
      "['c']\n"
     ]
    }
   ],
   "source": [
    "a = ['a','b','c']\n",
    "b = ['a','b']\n",
    "c = 'a'\n",
    "d = set(a)-set(b)\n",
    "print list(d)\n"
   ]
  },
  {
   "cell_type": "code",
   "execution_count": null,
   "metadata": {},
   "outputs": [],
   "source": []
  }
 ],
 "metadata": {
  "kernelspec": {
   "display_name": "Python 2",
   "language": "python",
   "name": "python2"
  },
  "language_info": {
   "codemirror_mode": {
    "name": "ipython",
    "version": 2
   },
   "file_extension": ".py",
   "mimetype": "text/x-python",
   "name": "python",
   "nbconvert_exporter": "python",
   "pygments_lexer": "ipython2",
   "version": "2.7.15"
  }
 },
 "nbformat": 4,
 "nbformat_minor": 2
}
