{
 "cells": [
  {
   "cell_type": "code",
   "execution_count": 170,
   "metadata": {},
   "outputs": [],
   "source": [
    "import sys,codecs,uniout,time\n",
    "def LoadFile(filename):\n",
    "    #load database from a file\n",
    "    #filename = \"./database.txt\"\n",
    "    res = []\n",
    "    #split rule with dot\n",
    "    with codecs.open(filename,'r','gb2312') as f:\n",
    "        for line in f.readlines():\n",
    "            if filename == 'condition.txt':\n",
    "                return line.split(',')\n",
    "            res.append(line.split(','))\n",
    "    return res\n",
    "    "
   ]
  },
  {
   "cell_type": "code",
   "execution_count": 109,
   "metadata": {},
   "outputs": [],
   "source": [
    "def SetupDatabase(RawData=[]):\n",
    "    #生成规则数据库，每条规则用一个list和一个字符串表示表示，前者代表条件and，后者字符串代表推理结果\n",
    "    RuleDatabase = []\n",
    "    for rule in RawData:\n",
    "        tmp = []\n",
    "        condition = rule[:-1]\n",
    "        result = rule[len(rule)-1]\n",
    "        result = \"\".join(result.split())\n",
    "        tmp.append(condition)\n",
    "        tmp.append(result)\n",
    "        RuleDatabase.append(tmp)\n",
    "    return RuleDatabase"
   ]
  },
  {
   "cell_type": "code",
   "execution_count": 192,
   "metadata": {},
   "outputs": [],
   "source": [
    "def Deduction(RuleDatabase=[],condition = []):\n",
    "    #每轮推理使用所有规则，遍历规则，将符合条件的结论加入到condition中，知道condition不再变化，推理结束\n",
    "    #每条rule由一个list表示条件和str表示结论\n",
    "    #condition_init 是condition的初始值\n",
    "    condition_init = []\n",
    "    for item in condition:\n",
    "        condition_init.append(item)\n",
    "    \n",
    "    #used 是在推理过程中使用的条件集合\n",
    "    used = []\n",
    "    \n",
    "    #conditionNum 是条件个数\n",
    "    conditionNum = len(condition)-1\n",
    "    \n",
    "    while True:\n",
    "        condition_pre = condition\n",
    "        #遍历条件\n",
    "        for rule in RuleDatabase:\n",
    "            \n",
    "            #结论不在条件中并且可以推理的，加入到条件集合中 \n",
    "            if not rule[1] in condition and  set(rule[0]) <= set(condition):\n",
    "                #输出推理步骤\n",
    "                print \"通过条件\",\n",
    "                for con in rule[0]:\n",
    "                    print con ,\n",
    "                print u\"推出 \" + rule[1]\n",
    "                time.sleep(1)\n",
    "                \n",
    "                condition.append(rule[1])\n",
    "                #使用过的条件加入到used集合中\n",
    "                for conditionUsed in rule[0]:\n",
    "                    used.append(conditionUsed)\n",
    "        #没有变化的时候停止\n",
    "        if condition_pre == condition:\n",
    "            break\n",
    "    \n",
    "   \n",
    "    #去除condition集合和used集合，condition_init集合中的交集元素\n",
    "    condition = list(set(condition)-set(used)-set(condition_init))\n",
    "    \n",
    "    \n",
    "    \n",
    "    return condition"
   ]
  },
  {
   "cell_type": "code",
   "execution_count": 193,
   "metadata": {},
   "outputs": [],
   "source": [
    "def main():\n",
    "    #读入规则数据库文件和条件文件\n",
    "    RawDatabase = LoadFile('database.txt')\n",
    "    condition = LoadFile('condition.txt')\n",
    "\n",
    "    #生成规则数据库\n",
    "    RuleDatabase = SetupDatabase(RawDatabase)\n",
    "    \n",
    "    #使用规则进行推理\n",
    "    DeductionResult = Deduction(RuleDatabase,condition)\n",
    "    \n",
    "    print u\"推理结果是：\"\n",
    "    for res in DeductionResult:\n",
    "        print res\n"
   ]
  },
  {
   "cell_type": "code",
   "execution_count": 194,
   "metadata": {},
   "outputs": [
    {
     "name": "stdout",
     "output_type": "stream",
     "text": [
      "通过条件 毛发 推出 哺乳动物\n",
      "通过条件 哺乳动物 反刍 推出 有蹄类动物\n",
      "通过条件 有蹄类动物 黑色条纹 推出 斑马\n",
      "推理结果是：\n",
      "斑马\n"
     ]
    }
   ],
   "source": [
    "if __name__=='__main__':\n",
    "    main()"
   ]
  }
 ],
 "metadata": {
  "kernelspec": {
   "display_name": "Python 2",
   "language": "python",
   "name": "python2"
  },
  "language_info": {
   "codemirror_mode": {
    "name": "ipython",
    "version": 2
   },
   "file_extension": ".py",
   "mimetype": "text/x-python",
   "name": "python",
   "nbconvert_exporter": "python",
   "pygments_lexer": "ipython2",
   "version": "2.7.13"
  }
 },
 "nbformat": 4,
 "nbformat_minor": 2
}
